{
 "cells": [
  {
   "cell_type": "markdown",
   "metadata": {},
   "source": [
    "<h1>[教學目標]</h1>\n",
    "\n",
    "學習使用 sklearn 中的 train_test_split 等套件，進行資料的切分\n",
    "\n",
    "<h1>[範例重點]</h1>\n",
    "\n",
    "了解函數中各個參數的意義\n",
    "\n",
    "引入我們需要的套件"
   ]
  },
  {
   "cell_type": "code",
   "execution_count": 1,
   "metadata": {},
   "outputs": [],
   "source": [
    "from sklearn.model_selection import train_test_split, KFold\n",
    "import numpy as np"
   ]
  },
  {
   "cell_type": "markdown",
   "metadata": {},
   "source": [
    "<h1>用 numpy 生成隨機資料</h1>"
   ]
  },
  {
   "cell_type": "code",
   "execution_count": 2,
   "metadata": {},
   "outputs": [
    {
     "name": "stdout",
     "output_type": "stream",
     "text": [
      "Shape of X:  (10, 5)\n",
      "Shape of y:  (10,)\n"
     ]
    }
   ],
   "source": [
    "X = np.arange(50).reshape(10, 5) # 生成從 0 到 50 的 array，並 reshape 成 (10, 5) 的 matrix\n",
    "y = np.zeros(10) # 生成一個全零 arrary\n",
    "y[:5] = 1 # 將一半的值改為 1\n",
    "print(\"Shape of X: \", X.shape)\n",
    "print(\"Shape of y: \", y.shape)"
   ]
  },
  {
   "cell_type": "code",
   "execution_count": 3,
   "metadata": {},
   "outputs": [
    {
     "name": "stdout",
     "output_type": "stream",
     "text": [
      "X: shape: (10, 5)\n",
      "[[ 0  1  2  3  4]\n",
      " [ 5  6  7  8  9]\n",
      " [10 11 12 13 14]\n",
      " [15 16 17 18 19]\n",
      " [20 21 22 23 24]\n",
      " [25 26 27 28 29]\n",
      " [30 31 32 33 34]\n",
      " [35 36 37 38 39]\n",
      " [40 41 42 43 44]\n",
      " [45 46 47 48 49]]\n",
      "\n",
      "y: shape: (10,)\n",
      "[1. 1. 1. 1. 1. 0. 0. 0. 0. 0.]\n"
     ]
    }
   ],
   "source": [
    "print('X: shape: ' + str(X.shape))\n",
    "print(X)\n",
    "print(\"\")\n",
    "print('y: shape: ' + str(y.shape))\n",
    "print(y)"
   ]
  },
  {
   "cell_type": "markdown",
   "metadata": {},
   "source": [
    "<h1>使用 train_test_split 函數進行切分</h1>\n",
    "\n",
    "請參考 train_test_split 函數的說明，了解函數裡的參數意義\n",
    "\n",
    "test_size 一定只能小於 1 嗎？\n",
    "random_state 不設置會怎麼樣呢？"
   ]
  },
  {
   "cell_type": "code",
   "execution_count": 4,
   "metadata": {},
   "outputs": [],
   "source": [
    "X_train, X_test, y_train, y_test = train_test_split(X, y, test_size=0.33, random_state=42)"
   ]
  },
  {
   "cell_type": "code",
   "execution_count": 5,
   "metadata": {},
   "outputs": [
    {
     "data": {
      "text/plain": [
       "array([[35, 36, 37, 38, 39],\n",
       "       [10, 11, 12, 13, 14],\n",
       "       [45, 46, 47, 48, 49],\n",
       "       [20, 21, 22, 23, 24],\n",
       "       [15, 16, 17, 18, 19],\n",
       "       [30, 31, 32, 33, 34]])"
      ]
     },
     "execution_count": 5,
     "metadata": {},
     "output_type": "execute_result"
    }
   ],
   "source": [
    "X_train"
   ]
  },
  {
   "cell_type": "code",
   "execution_count": 6,
   "metadata": {},
   "outputs": [
    {
     "data": {
      "text/plain": [
       "array([0., 1., 0., 1., 1., 0.])"
      ]
     },
     "execution_count": 6,
     "metadata": {},
     "output_type": "execute_result"
    }
   ],
   "source": [
    "y_train"
   ]
  },
  {
   "cell_type": "markdown",
   "metadata": {},
   "source": [
    "<h1>使用 K-fold Cross-validation 來切分資料</h1>\n",
    "\n",
    "請參考 kf 函數的說明，了解參數中的意義。K 可根據資料大小自行決定，K=5 是蠻常用的大小\n",
    "\n",
    "如果使用 shuffle=True 會怎麼樣?"
   ]
  },
  {
   "cell_type": "code",
   "execution_count": 7,
   "metadata": {},
   "outputs": [
    {
     "name": "stdout",
     "output_type": "stream",
     "text": [
      "FOLD 1: \n",
      "X_test:  [[0 1 2 3 4]\n",
      " [5 6 7 8 9]]\n",
      "Y_test:  [1. 1.]\n",
      "------------------------------\n",
      "FOLD 2: \n",
      "X_test:  [[10 11 12 13 14]\n",
      " [15 16 17 18 19]]\n",
      "Y_test:  [1. 1.]\n",
      "------------------------------\n",
      "FOLD 3: \n",
      "X_test:  [[20 21 22 23 24]\n",
      " [25 26 27 28 29]]\n",
      "Y_test:  [1. 0.]\n",
      "------------------------------\n",
      "FOLD 4: \n",
      "X_test:  [[30 31 32 33 34]\n",
      " [35 36 37 38 39]]\n",
      "Y_test:  [0. 0.]\n",
      "------------------------------\n",
      "FOLD 5: \n",
      "X_test:  [[40 41 42 43 44]\n",
      " [45 46 47 48 49]]\n",
      "Y_test:  [0. 0.]\n",
      "------------------------------\n"
     ]
    }
   ],
   "source": [
    "kf = KFold(n_splits=5)\n",
    "i = 0\n",
    "for train_index, test_index in kf.split(X):\n",
    "    i +=1 \n",
    "    X_train, X_test = X[train_index], X[test_index]\n",
    "    y_train, y_test = y[train_index], y[test_index]\n",
    "    print(\"FOLD {}: \".format(i))\n",
    "    print(\"X_test: \", X_test)\n",
    "    print(\"Y_test: \", y_test)\n",
    "    print(\"-\"*30)"
   ]
  },
  {
   "cell_type": "markdown",
   "metadata": {},
   "source": [
    "<h1>[作業重點]</h1>\n",
    "\n",
    "觀察函數說明，要如何切出固定大小的測試集?\n",
    "\n",
    "<h1>作業</h1>\n",
    "\n",
    "假設我們資料中類別的數量並不均衡，在評估準確率時可能會有所偏頗，試著切分出 y_test 中，0 類別與 1 類別的數量是一樣的 (亦即 y_test 的類別是均衡的)"
   ]
  },
  {
   "cell_type": "code",
   "execution_count": 8,
   "metadata": {},
   "outputs": [],
   "source": [
    "X = np.arange(1000).reshape(200, 5)\n",
    "y = np.zeros(200)\n",
    "y[:40] = 1"
   ]
  },
  {
   "cell_type": "code",
   "execution_count": 9,
   "metadata": {},
   "outputs": [
    {
     "data": {
      "text/plain": [
       "array([1., 1., 1., 1., 1., 1., 1., 1., 1., 1., 1., 1., 1., 1., 1., 1., 1.,\n",
       "       1., 1., 1., 1., 1., 1., 1., 1., 1., 1., 1., 1., 1., 1., 1., 1., 1.,\n",
       "       1., 1., 1., 1., 1., 1., 0., 0., 0., 0., 0., 0., 0., 0., 0., 0., 0.,\n",
       "       0., 0., 0., 0., 0., 0., 0., 0., 0., 0., 0., 0., 0., 0., 0., 0., 0.,\n",
       "       0., 0., 0., 0., 0., 0., 0., 0., 0., 0., 0., 0., 0., 0., 0., 0., 0.,\n",
       "       0., 0., 0., 0., 0., 0., 0., 0., 0., 0., 0., 0., 0., 0., 0., 0., 0.,\n",
       "       0., 0., 0., 0., 0., 0., 0., 0., 0., 0., 0., 0., 0., 0., 0., 0., 0.,\n",
       "       0., 0., 0., 0., 0., 0., 0., 0., 0., 0., 0., 0., 0., 0., 0., 0., 0.,\n",
       "       0., 0., 0., 0., 0., 0., 0., 0., 0., 0., 0., 0., 0., 0., 0., 0., 0.,\n",
       "       0., 0., 0., 0., 0., 0., 0., 0., 0., 0., 0., 0., 0., 0., 0., 0., 0.,\n",
       "       0., 0., 0., 0., 0., 0., 0., 0., 0., 0., 0., 0., 0., 0., 0., 0., 0.,\n",
       "       0., 0., 0., 0., 0., 0., 0., 0., 0., 0., 0., 0., 0.])"
      ]
     },
     "execution_count": 9,
     "metadata": {},
     "output_type": "execute_result"
    }
   ],
   "source": [
    "y"
   ]
  },
  {
   "cell_type": "code",
   "execution_count": 10,
   "metadata": {},
   "outputs": [],
   "source": [
    "y1_index = range(40)\n",
    "y0_index = range(40,200)\n",
    "\n",
    "\n",
    "X1_train, X1_test, y1_train, y1_test = train_test_split(X[y1_index], y[y1_index], test_size=0.25)\n",
    "X0_train, X0_test, y0_train, y0_test = train_test_split(X[y0_index], y[y0_index], test_size=10)"
   ]
  },
  {
   "cell_type": "code",
   "execution_count": 11,
   "metadata": {},
   "outputs": [],
   "source": [
    "X_train= np.append(X0_train, X1_train)\n",
    "X_test=np.append(X0_test, X1_test)\n",
    "y_train=np.append(y0_train, y1_train)\n",
    "y_test=np.append(y0_test, y1_test)"
   ]
  },
  {
   "cell_type": "code",
   "execution_count": 12,
   "metadata": {},
   "outputs": [
    {
     "data": {
      "text/plain": [
       "array([0., 0., 0., 0., 0., 0., 0., 0., 0., 0., 1., 1., 1., 1., 1., 1., 1.,\n",
       "       1., 1., 1.])"
      ]
     },
     "execution_count": 12,
     "metadata": {},
     "output_type": "execute_result"
    }
   ],
   "source": [
    "y_test"
   ]
  }
 ],
 "metadata": {
  "kernelspec": {
   "display_name": "Python 3",
   "language": "python",
   "name": "python3"
  },
  "language_info": {
   "codemirror_mode": {
    "name": "ipython",
    "version": 3
   },
   "file_extension": ".py",
   "mimetype": "text/x-python",
   "name": "python",
   "nbconvert_exporter": "python",
   "pygments_lexer": "ipython3",
   "version": "3.7.2"
  }
 },
 "nbformat": 4,
 "nbformat_minor": 2
}
