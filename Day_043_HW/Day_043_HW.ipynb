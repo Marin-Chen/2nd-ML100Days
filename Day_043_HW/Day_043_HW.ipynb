{
 "cells": [
  {
   "cell_type": "markdown",
   "metadata": {},
   "source": [
    "<h1>[作業重點]</h1>\n",
    "\n",
    "了解隨機森林改善了決策樹的什麼缺點？是用什麼方法改進的？\n",
    "\n",
    "<h1>作業</h1>\n",
    "\n",
    "閱讀以下兩篇文獻，了解隨機森林原理，並試著回答後續的思考問題\n",
    "\n",
    "隨機森林 (random forest) - 中文\n",
    "how random forest works - 英文\n",
    "\n",
    "\n",
    "1.隨機森林中的每一棵樹，是希望能夠\n",
    "\n",
    "沒有任何限制，讓樹可以持續生長 (讓樹生成很深，讓模型變得複雜)  X\n",
    "\n",
    "不要過度生長，避免 Overfitting  O\n",
    "\n",
    "2.假設總共有 N 筆資料，每棵樹用取後放回的方式抽了總共 N 筆資料生成，請問這棵樹大約使用了多少 % 不重複的原資料生成? hint: 0.632 bootstrap\n"
   ]
  },
  {
   "cell_type": "code",
   "execution_count": null,
   "metadata": {},
   "outputs": [],
   "source": []
  }
 ],
 "metadata": {
  "kernelspec": {
   "display_name": "Python 3",
   "language": "python",
   "name": "python3"
  },
  "language_info": {
   "codemirror_mode": {
    "name": "ipython",
    "version": 3
   },
   "file_extension": ".py",
   "mimetype": "text/x-python",
   "name": "python",
   "nbconvert_exporter": "python",
   "pygments_lexer": "ipython3",
   "version": "3.7.2"
  }
 },
 "nbformat": 4,
 "nbformat_minor": 2
}
