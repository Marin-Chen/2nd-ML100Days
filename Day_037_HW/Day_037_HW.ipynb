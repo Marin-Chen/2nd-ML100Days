{
 "cells": [
  {
   "cell_type": "markdown",
   "metadata": {},
   "source": [
    "<h1>[作業重點]</h1>\n",
    "\n",
    "了解線性回歸的模型發展歷程，並了解優勢與劣勢，以及其使用情境\n",
    "\n",
    "<h1>作業</h1>\n",
    "\n",
    "請閱讀以下相關文獻，並回答以下問題\n",
    "\n",
    "Linear Regression 詳細介紹\n",
    "\n",
    "Logistics Regression 詳細介紹\n",
    "\n",
    "1.線性回歸模型能夠準確預測非線性關係的資料集嗎?\n",
    "\n",
    "ans:no\n",
    "\n",
    "2.回歸模型是否對資料分布有基本假設?\n",
    "\n",
    "ans:yes"
   ]
  },
  {
   "cell_type": "code",
   "execution_count": null,
   "metadata": {},
   "outputs": [],
   "source": []
  }
 ],
 "metadata": {
  "kernelspec": {
   "display_name": "Python 3",
   "language": "python",
   "name": "python3"
  },
  "language_info": {
   "codemirror_mode": {
    "name": "ipython",
    "version": 3
   },
   "file_extension": ".py",
   "mimetype": "text/x-python",
   "name": "python",
   "nbconvert_exporter": "python",
   "pygments_lexer": "ipython3",
   "version": "3.7.2"
  }
 },
 "nbformat": 4,
 "nbformat_minor": 2
}
