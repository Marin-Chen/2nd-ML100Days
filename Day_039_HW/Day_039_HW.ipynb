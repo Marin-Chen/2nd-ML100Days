{
 "cells": [
  {
   "cell_type": "markdown",
   "metadata": {},
   "source": [
    "<h1>[作業重點]</h1>\n",
    "清楚了解 L1, L2 的意義與差異為何，並了解 LASSO 與 Ridge 之間的差異與使用情境\n",
    "\n",
    "<h1>作業</h1>\n",
    "請閱讀相關文獻，並回答下列問題\n",
    "\n",
    "脊回歸 (Ridge Regression) Linear, Ridge, Lasso Regression 本質區別\n",
    "\n",
    "1.LASSO 回歸可以被用來作為 Feature selection 的工具，請了解 LASSO 模型為什麼可用來作 Feature selection\n",
    "\n",
    "ans:LASSO迴歸利用懲罰項為1而導致部分回歸係數為0，進而得以進行特徵選取\n",
    "\n",
    "2.當自變數 (X) 存在高度共線性時，Ridge Regression 可以處理這樣的問題嗎?\n",
    "\n",
    "ans:可以，脊迴歸是一種修改最小平方法，允許有偏估計量、減少雜訊干擾，進而改善多元共線性的方法"
   ]
  },
  {
   "cell_type": "code",
   "execution_count": null,
   "metadata": {},
   "outputs": [],
   "source": []
  }
 ],
 "metadata": {
  "kernelspec": {
   "display_name": "Python 3",
   "language": "python",
   "name": "python3"
  },
  "language_info": {
   "codemirror_mode": {
    "name": "ipython",
    "version": 3
   },
   "file_extension": ".py",
   "mimetype": "text/x-python",
   "name": "python",
   "nbconvert_exporter": "python",
   "pygments_lexer": "ipython3",
   "version": "3.7.2"
  }
 },
 "nbformat": 4,
 "nbformat_minor": 2
}
